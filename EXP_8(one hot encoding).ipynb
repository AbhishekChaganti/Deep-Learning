{
  "cells": [
    {
      "cell_type": "markdown",
      "metadata": {
        "id": "view-in-github",
        "colab_type": "text"
      },
      "source": [
        "<a href=\"https://colab.research.google.com/github/AbhishekChaganti/Deep-Learning/blob/main/EXP_8(one%20hot%20encoding).ipynb\" target=\"_parent\"><img src=\"https://colab.research.google.com/assets/colab-badge.svg\" alt=\"Open In Colab\"/></a>"
      ]
    },
    {
      "cell_type": "code",
      "source": [
        "from tensorflow.keras.preprocessing.text import one_hot\n",
        "\n",
        "words = ['apple', 'banana', 'cherry', 'apple', 'cherry', 'banana', 'apple']\n",
        "\n",
        "vocab = set(words)\n",
        "\n",
        "word_to_int = {word: i for i, word in enumerate(vocab)}\n",
        "\n",
        "int_words = [word_to_int[word] for word in words]\n",
        "one_hot_words = []\n",
        "for int_word in int_words:\n",
        "    one_hot_word = [0] * len(vocab)\n",
        "    one_hot_word[int_word] = 1\n",
        "    one_hot_words.append(one_hot_word)\n",
        "\n",
        "print(one_hot_words)"
      ],
      "metadata": {
        "id": "qukYHTu-KW7p",
        "outputId": "55de6184-bc28-4503-cc6d-f67471ca4216",
        "colab": {
          "base_uri": "https://localhost:8080/"
        }
      },
      "execution_count": 1,
      "outputs": [
        {
          "output_type": "stream",
          "name": "stdout",
          "text": [
            "[[0, 0, 1], [0, 1, 0], [1, 0, 0], [0, 0, 1], [1, 0, 0], [0, 1, 0], [0, 0, 1]]\n"
          ]
        }
      ]
    },
    {
      "cell_type": "code",
      "source": [
        "import string\n",
        "\n",
        "input_string = 'hello world'\n",
        "\n",
        "vocab = set(input_string)\n",
        "\n",
        "char_to_int = {char: i for i, char in enumerate(vocab)}\n",
        "\n",
        "int_chars = [char_to_int[char] for char in input_string]\n",
        "\n",
        "one_hot_chars = []\n",
        "for int_char in int_chars:\n",
        "    one_hot_char = [0] * len(vocab)\n",
        "    one_hot_char[int_char] = 1\n",
        "    one_hot_chars.append(one_hot_char)\n",
        "\n",
        "print(one_hot_chars)"
      ],
      "metadata": {
        "id": "H1eDKPllMht5",
        "outputId": "26632790-7f36-4fb4-e19a-4c3dcd18ce7e",
        "colab": {
          "base_uri": "https://localhost:8080/"
        }
      },
      "execution_count": 2,
      "outputs": [
        {
          "output_type": "stream",
          "name": "stdout",
          "text": [
            "[[0, 0, 0, 0, 1, 0, 0, 0], [0, 0, 0, 0, 0, 1, 0, 0], [0, 1, 0, 0, 0, 0, 0, 0], [0, 1, 0, 0, 0, 0, 0, 0], [1, 0, 0, 0, 0, 0, 0, 0], [0, 0, 0, 1, 0, 0, 0, 0], [0, 0, 0, 0, 0, 0, 0, 1], [1, 0, 0, 0, 0, 0, 0, 0], [0, 0, 0, 0, 0, 0, 1, 0], [0, 1, 0, 0, 0, 0, 0, 0], [0, 0, 1, 0, 0, 0, 0, 0]]\n"
          ]
        }
      ]
    }
  ],
  "metadata": {
    "colab": {
      "name": "Welcome To Colab",
      "toc_visible": true,
      "provenance": [],
      "include_colab_link": true
    },
    "kernelspec": {
      "display_name": "Python 3",
      "name": "python3"
    }
  },
  "nbformat": 4,
  "nbformat_minor": 0
}